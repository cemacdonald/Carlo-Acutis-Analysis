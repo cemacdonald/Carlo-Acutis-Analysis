{
 "cells": [
  {
   "cell_type": "markdown",
   "id": "93b8d654",
   "metadata": {},
   "source": [
    "# Data Analytics on Carlo Acutis' work\n",
    "- By Claire MacDonald\n",
    "- Last Edit: 8/13/2024\n",
    "- Purpose is to analyze the data provided by Carlo Acutis' website dedicated to Eucharistic Miracles\n",
    "- http://www.miracolieucaristici.org/en/Liste/list.html"
   ]
  },
  {
   "cell_type": "code",
   "execution_count": null,
   "id": "78bf9027",
   "metadata": {},
   "outputs": [],
   "source": [
    "import pandas as pd\n",
    "import numpy as np\n",
    "import matplotlib.pyplot as plt \n",
    "import arrow"
   ]
  }
 ],
 "metadata": {
  "kernelspec": {
   "display_name": "Python 3 (ipykernel)",
   "language": "python",
   "name": "python3"
  },
  "language_info": {
   "codemirror_mode": {
    "name": "ipython",
    "version": 3
   },
   "file_extension": ".py",
   "mimetype": "text/x-python",
   "name": "python",
   "nbconvert_exporter": "python",
   "pygments_lexer": "ipython3",
   "version": "3.9.13"
  }
 },
 "nbformat": 4,
 "nbformat_minor": 5
}
